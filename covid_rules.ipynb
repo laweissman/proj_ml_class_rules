{
 "cells": [
  {
   "cell_type": "markdown",
   "metadata": {},
   "source": [
    "# Rules of survival\n",
    "\n",
    "### Mini-project\n",
    "\n",
    "In this small project you will use the PRISM Rule Learner algorithm to learn some rules about COVID-19 comorbidity factors. Write as much about your findings as possible. You may add external information/additional datasets for an extra-credit."
   ]
  },
  {
   "cell_type": "markdown",
   "metadata": {},
   "source": [
    "## 1. Algorithm\n",
    "\n",
    "Copy your implementation of the correct and tested algorithm in the cell below. You do not need to supply any comments or explanations. "
   ]
  },
  {
   "cell_type": "code",
   "execution_count": 200,
   "metadata": {},
   "outputs": [
    {
     "name": "stdout",
     "output_type": "stream",
     "text": [
      "contact_lenses.csv\n",
      "covid_categorical_good.csv\n",
      "StudentEvaluations.csv\n",
      "titanic.csv\n",
      "two_houses.csv\n"
     ]
    }
   ],
   "source": [
    "import pandas as pd\n",
    "import numpy as np \n",
    "import matplotlib.pyplot as plt\n",
    "import os\n",
    "\n",
    "for list_of_files in os.listdir(\"../proj_ml_class_rules/data_sets\"):\n",
    "\tprint(list_of_files)"
   ]
  },
  {
   "cell_type": "code",
   "execution_count": 201,
   "metadata": {},
   "outputs": [
    {
     "data": {
      "text/plain": [
       "Index(['sex', 'age', 'diabetes', 'copd', 'asthma', 'imm_supr', 'hypertension',\n",
       "       'cardiovascular', 'obesity', 'renal_chronic', 'tobacco', 'outcome'],\n",
       "      dtype='object')"
      ]
     },
     "execution_count": 201,
     "metadata": {},
     "output_type": "execute_result"
    }
   ],
   "source": [
    "\n",
    "data_file = \"data_sets/covid_categorical_good.csv\"\n",
    "data = pd.read_csv(data_file)\n",
    "data.columns\n",
    "\n"
   ]
  },
  {
   "cell_type": "code",
   "execution_count": 202,
   "metadata": {},
   "outputs": [],
   "source": [
    "\n",
    "class Rule:\n",
    "    def __init__(self, class_label):\n",
    "        self.conditions = []  # list of conditions\n",
    "        self.class_label = class_label  # rule class\n",
    "        self.accuracy = 0\n",
    "        self.coverage = 0\n",
    "\n",
    "    def addCondition(self, condition):\n",
    "        self.conditions.append(condition)\n",
    "\n",
    "    def setParams(self, accuracy, coverage):\n",
    "        self.accuracy = accuracy\n",
    "        self.coverage = coverage\n",
    "    \n",
    "    # Human-readable printing of this Rule\n",
    "    def __repr__(self):\n",
    "        return \"If {} then {}. Coverage:{}, accuracy: {}\".format(self.conditions, self.class_label,\n",
    "                                                                 self.coverage, self.accuracy)\n",
    "\n",
    "class Condition:\n",
    "    def __init__(self, attribute, value, true_false = None):\n",
    "        self.attribute = attribute\n",
    "        self.value = value\n",
    "        self.true_false = true_false\n",
    "\n",
    "    def __repr__(self):\n",
    "        if self.true_false is None:\n",
    "            return \"{}={}\".format(self.attribute, self.value)\n",
    "        else:\n",
    "            return \"{}>={}:{}\".format(self.attribute, self.value, self.true_false)\n",
    "\n",
    "\n",
    "\n",
    "def learn_rules (columns, data, classes=None, \n",
    "                 min_coverage = 30, min_accuracy = 0.6):\n",
    "    # List of final rules\n",
    "    rules = []\n",
    "    \n",
    "    # If list of classes of interest is not provided - it is extracted from the last column of data\n",
    "    if classes is not None:\n",
    "        class_labels = classes\n",
    "    else:\n",
    "        class_labels = data[columns[-1]].unique().tolist()\n",
    "\n",
    "    current_data = data.copy()\n",
    "    \n",
    "    # This follows the logic of the original PRISM algorithm\n",
    "    # It processes each class in turn. \n",
    "    for class_label in class_labels:\n",
    "        done = False\n",
    "        while len(current_data) > min_coverage and not done:\n",
    "            # Learn one rule \n",
    "            \n",
    "            rule, subset = learn_one_rule(columns, current_data, class_label, min_coverage, min_accuracy)\n",
    "            #print(current_data.shape, rule.accuracy)\n",
    "            # If the best rule does not pass the coverage threshold - we are done with this class\n",
    "            if rule is None:\n",
    "                break\n",
    "\n",
    "            # If we get the rule with accuracy and coverage above threshold\n",
    "            \n",
    "            if rule.accuracy >= min_accuracy:\n",
    "                rules.append(rule)\n",
    "\n",
    "                # remove rows covered by this rule\n",
    "                # you have to remove the rows where all of the conditions hold\n",
    "                current_data = current_data[~current_data.index.isin(subset.index)].copy()\n",
    "\n",
    "            else:\n",
    "                done = True         \n",
    "                \n",
    "    return rules\n",
    "\n",
    "\n",
    "def learn_one_rule(columns, data, class_label, min_coverage = 30, min_accuracy = 0.6):\n",
    "    covered_subset = data.copy()\n",
    "\n",
    "    # YOUR CODE     \n",
    "    #Creating an empty rule. \n",
    "    rule = Rule(class_label)\n",
    "    \n",
    "    # Creating a set for the available features.\n",
    "    features = set(columns[:-1]) #Not including the last column (class_label)\n",
    "    target = columns[-1]\n",
    "\n",
    "    # As long there is a feature, we then create a a condition.\n",
    "    while features:\n",
    "        # The following best \"attributes\" are initialized to zero.\n",
    "        # Checking the accuracy for each attribute and its values.\n",
    "        best_accuracy = 0\n",
    "        best_feature = None\n",
    "        best_value = 0\n",
    "        best_coverage = 0\n",
    "\n",
    "        # This loop will run through each available feature.\n",
    "        for col in features:\n",
    "            # Calculates acurracy/coverage for specific feature.\n",
    "            cur = covered_subset.groupby(col)[target].apply(lambda x: ((x == class_label).mean(),x.shape[0])).sort_values(ascending=False)\n",
    "            cur = cur[cur.apply(lambda x: x[1] > min_coverage)]\n",
    "            if cur.size == 0:\n",
    "                continue\n",
    "\n",
    "            # Selecting the best accuracy for the especific column.\n",
    "            cur = cur.head(1) \n",
    "\n",
    "            # This keeps track of the best acurracy feature among features. \n",
    "            if best_accuracy < cur.values[0][0] or (cur.values[0][0] == best_accuracy and cur.values[0][1] > best_coverage):\n",
    "                best_feature = col\n",
    "                best_value = cur.index[0]\n",
    "                best_accuracy = cur.values[0][0]\n",
    "                best_coverage = cur.values[0][1]\n",
    "\n",
    "        if best_feature is None:\n",
    "            return None, None\n",
    "\n",
    "        # After selecting a feature, we then remove it from the dataset so that we can avoid using it again in the next interation of the loop.\n",
    "        features.remove(best_feature)\n",
    "        # We then add the next condition to the rule to what is the best feature corresponding to the value. \n",
    "        rule.addCondition(Condition(best_feature, best_value))\n",
    "        # We then only select the data specified by the rule.\n",
    "        covered_subset = covered_subset[covered_subset[best_feature] == best_value].copy()\n",
    "        # If the accuracy we achieve so far is higher than min_accuracy than we stopped.\n",
    "        # If not, we then go back to the while loop.\n",
    "        if best_accuracy > min_accuracy:\n",
    "            break\n",
    "\n",
    "    # We then achieve the minimal accuracy or there is no other feature to create the condition.\n",
    "    rule.setParams(best_accuracy, covered_subset.shape[0])   \n",
    "\n",
    "    # Here we then check if the coverage and the minimal accuracy is mantained.\n",
    "    if (rule.coverage < min_coverage) or (rule.accuracy < min_accuracy): \n",
    "        rule = None \n",
    "        rule = None\n",
    "\n",
    "    return rule, covered_subset                                                                "
   ]
  },
  {
   "cell_type": "code",
   "execution_count": 203,
   "metadata": {},
   "outputs": [
    {
     "name": "stdout",
     "output_type": "stream",
     "text": [
      "If [age=6] then alive. Coverage:198, accuracy: 1.0\n",
      "If [age=14] then alive. Coverage:360, accuracy: 0.9972222222222222\n",
      "If [age=16] then alive. Coverage:492, accuracy: 0.9959349593495935\n",
      "If [age=18] then alive. Coverage:611, accuracy: 0.9950900163666121\n",
      "If [age=7] then alive. Coverage:182, accuracy: 0.9945054945054945\n",
      "If [age=24] then alive. Coverage:2746, accuracy: 0.9941733430444283\n",
      "If [age=19] then alive. Coverage:974, accuracy: 0.9928131416837782\n",
      "If [age=12] then alive. Coverage:270, accuracy: 0.9925925925925926\n",
      "If [age=20] then alive. Coverage:1191, accuracy: 0.9916036943744753\n",
      "If [age=8] then alive. Coverage:215, accuracy: 0.9906976744186047\n",
      "If [age=25] then alive. Coverage:3235, accuracy: 0.9901081916537867\n",
      "If [age=27] then alive. Coverage:4053, accuracy: 0.9898840365161609\n",
      "If [age=28] then alive. Coverage:4298, accuracy: 0.9895300139599814\n",
      "If [age=23] then alive. Coverage:2129, accuracy: 0.9891968060122123\n",
      "If [age=11] then alive. Coverage:272, accuracy: 0.9889705882352942\n",
      "If [age=22] then alive. Coverage:1676, accuracy: 0.9886634844868735\n",
      "If [age=3] then alive. Coverage:172, accuracy: 0.9883720930232558\n",
      "If [age=13] then alive. Coverage:342, accuracy: 0.9883040935672515\n",
      "If [age=10] then alive. Coverage:250, accuracy: 0.988\n",
      "If [age=29] then alive. Coverage:4482, accuracy: 0.9875055778670236\n"
     ]
    }
   ],
   "source": [
    "column_list = data.columns.to_numpy().tolist()\n",
    "rules = learn_rules(column_list, data, None, 30, 0.95)\n",
    "for rule in rules[:20]:\n",
    "    print(rule)"
   ]
  },
  {
   "cell_type": "code",
   "execution_count": 204,
   "metadata": {},
   "outputs": [
    {
     "data": {
      "text/plain": [
       "age\n",
       "6                    (1.0, 198)\n",
       "14    (0.9972222222222222, 360)\n",
       "16    (0.9959349593495935, 492)\n",
       "18    (0.9950900163666121, 611)\n",
       "7     (0.9945054945054945, 182)\n",
       "                ...            \n",
       "87    (0.5420289855072464, 345)\n",
       "83     (0.535958904109589, 584)\n",
       "88    (0.5284552845528455, 246)\n",
       "93     (0.5194805194805194, 77)\n",
       "86    (0.5119363395225465, 377)\n",
       "Name: outcome, Length: 98, dtype: object"
      ]
     },
     "execution_count": 204,
     "metadata": {},
     "output_type": "execute_result"
    }
   ],
   "source": [
    "cur = data.groupby('age')['outcome'].apply(lambda x: ((x == 'alive').mean(),x.shape[0])).sort_values(ascending=False)\n",
    "cur = cur[cur.apply(lambda x: x[1] > 30)]\n",
    "cur"
   ]
  },
  {
   "cell_type": "markdown",
   "metadata": {},
   "source": [
    "## 2. Titanic dataset: the rules of survival"
   ]
  },
  {
   "cell_type": "markdown",
   "metadata": {},
   "source": [
    "Our very familiar Titanic [dataset](https://docs.google.com/spreadsheets/d/1QGNxqRU02eAvTGih1t0cErB5R05mdOdUBgJZACGcuvs/edit?usp=sharing)."
   ]
  },
  {
   "cell_type": "code",
   "execution_count": 205,
   "metadata": {},
   "outputs": [
    {
     "name": "stdout",
     "output_type": "stream",
     "text": [
      "contact_lenses.csv\n",
      "covid_categorical_good.csv\n",
      "StudentEvaluations.csv\n",
      "titanic.csv\n",
      "two_houses.csv\n"
     ]
    }
   ],
   "source": [
    "for list_of_files in os.listdir(\"../data_sets\"):\n",
    "\tprint(list_of_files)\n"
   ]
  },
  {
   "cell_type": "code",
   "execution_count": 206,
   "metadata": {},
   "outputs": [
    {
     "name": "stdout",
     "output_type": "stream",
     "text": [
      "Total rows 714\n",
      "Columns: ['Pclass', 'Sex', 'Age', 'Survived']\n"
     ]
    }
   ],
   "source": [
    "data = pd.read_csv(\"../data_sets/titanic.csv\")\n",
    "\n",
    "# take a subset of attributes\n",
    "data = data[['Pclass', 'Sex', 'Age', 'Survived']]\n",
    "\n",
    "# drop all columns and rows with missing values\n",
    "data = data.dropna(how=\"any\")\n",
    "print(\"Total rows\", len(data))\n",
    "\n",
    "column_list = data.columns.to_numpy().tolist()\n",
    "print(\"Columns:\", column_list)"
   ]
  },
  {
   "cell_type": "code",
   "execution_count": 207,
   "metadata": {},
   "outputs": [
    {
     "data": {
      "text/html": [
       "<div>\n",
       "<style scoped>\n",
       "    .dataframe tbody tr th:only-of-type {\n",
       "        vertical-align: middle;\n",
       "    }\n",
       "\n",
       "    .dataframe tbody tr th {\n",
       "        vertical-align: top;\n",
       "    }\n",
       "\n",
       "    .dataframe thead th {\n",
       "        text-align: right;\n",
       "    }\n",
       "</style>\n",
       "<table border=\"1\" class=\"dataframe\">\n",
       "  <thead>\n",
       "    <tr style=\"text-align: right;\">\n",
       "      <th></th>\n",
       "      <th>Pclass</th>\n",
       "      <th>Sex</th>\n",
       "      <th>Age</th>\n",
       "      <th>Survived</th>\n",
       "    </tr>\n",
       "  </thead>\n",
       "  <tbody>\n",
       "    <tr>\n",
       "      <th>0</th>\n",
       "      <td>3</td>\n",
       "      <td>male</td>\n",
       "      <td>22.0</td>\n",
       "      <td>0</td>\n",
       "    </tr>\n",
       "    <tr>\n",
       "      <th>1</th>\n",
       "      <td>1</td>\n",
       "      <td>female</td>\n",
       "      <td>38.0</td>\n",
       "      <td>1</td>\n",
       "    </tr>\n",
       "    <tr>\n",
       "      <th>2</th>\n",
       "      <td>3</td>\n",
       "      <td>female</td>\n",
       "      <td>26.0</td>\n",
       "      <td>1</td>\n",
       "    </tr>\n",
       "    <tr>\n",
       "      <th>3</th>\n",
       "      <td>1</td>\n",
       "      <td>female</td>\n",
       "      <td>35.0</td>\n",
       "      <td>1</td>\n",
       "    </tr>\n",
       "    <tr>\n",
       "      <th>4</th>\n",
       "      <td>3</td>\n",
       "      <td>male</td>\n",
       "      <td>35.0</td>\n",
       "      <td>0</td>\n",
       "    </tr>\n",
       "    <tr>\n",
       "      <th>...</th>\n",
       "      <td>...</td>\n",
       "      <td>...</td>\n",
       "      <td>...</td>\n",
       "      <td>...</td>\n",
       "    </tr>\n",
       "    <tr>\n",
       "      <th>874</th>\n",
       "      <td>2</td>\n",
       "      <td>female</td>\n",
       "      <td>28.0</td>\n",
       "      <td>1</td>\n",
       "    </tr>\n",
       "    <tr>\n",
       "      <th>875</th>\n",
       "      <td>3</td>\n",
       "      <td>female</td>\n",
       "      <td>15.0</td>\n",
       "      <td>1</td>\n",
       "    </tr>\n",
       "    <tr>\n",
       "      <th>876</th>\n",
       "      <td>3</td>\n",
       "      <td>male</td>\n",
       "      <td>20.0</td>\n",
       "      <td>0</td>\n",
       "    </tr>\n",
       "    <tr>\n",
       "      <th>877</th>\n",
       "      <td>3</td>\n",
       "      <td>male</td>\n",
       "      <td>19.0</td>\n",
       "      <td>0</td>\n",
       "    </tr>\n",
       "    <tr>\n",
       "      <th>879</th>\n",
       "      <td>1</td>\n",
       "      <td>female</td>\n",
       "      <td>56.0</td>\n",
       "      <td>1</td>\n",
       "    </tr>\n",
       "  </tbody>\n",
       "</table>\n",
       "<p>704 rows × 4 columns</p>\n",
       "</div>"
      ],
      "text/plain": [
       "     Pclass     Sex   Age  Survived\n",
       "0         3    male  22.0         0\n",
       "1         1  female  38.0         1\n",
       "2         3  female  26.0         1\n",
       "3         1  female  35.0         1\n",
       "4         3    male  35.0         0\n",
       "..      ...     ...   ...       ...\n",
       "874       2  female  28.0         1\n",
       "875       3  female  15.0         1\n",
       "876       3    male  20.0         0\n",
       "877       3    male  19.0         0\n",
       "879       1  female  56.0         1\n",
       "\n",
       "[704 rows x 4 columns]"
      ]
     },
     "execution_count": 207,
     "metadata": {},
     "output_type": "execute_result"
    }
   ],
   "source": [
    "data.head(-10)"
   ]
  },
  {
   "cell_type": "code",
   "execution_count": 208,
   "metadata": {},
   "outputs": [
    {
     "data": {
      "text/plain": [
       "(714, 4)"
      ]
     },
     "execution_count": 208,
     "metadata": {},
     "output_type": "execute_result"
    }
   ],
   "source": [
    "data.shape\n"
   ]
  },
  {
   "cell_type": "code",
   "execution_count": 209,
   "metadata": {},
   "outputs": [
    {
     "data": {
      "text/plain": [
       "male      453\n",
       "female    261\n",
       "Name: Sex, dtype: int64"
      ]
     },
     "execution_count": 209,
     "metadata": {},
     "output_type": "execute_result"
    }
   ],
   "source": [
    "data['Sex'].value_counts()"
   ]
  },
  {
   "cell_type": "code",
   "execution_count": 210,
   "metadata": {},
   "outputs": [
    {
     "name": "stdout",
     "output_type": "stream",
     "text": [
      "Percentage of deaths by Pclass and Sex:\n",
      "\n"
     ]
    },
    {
     "data": {
      "text/plain": [
       "Pclass  Sex   \n",
       "1       female    0.035294\n",
       "2       female    0.081081\n",
       "3       female    0.539216\n",
       "1       male      0.603960\n",
       "2       male      0.848485\n",
       "3       male      0.849802\n",
       "Name: Survived, dtype: float64"
      ]
     },
     "execution_count": 210,
     "metadata": {},
     "output_type": "execute_result"
    }
   ],
   "source": [
    "print(\"Percentage of deaths by Pclass and Sex:\\n\")\n",
    "sex_pClassData = data.groupby(['Pclass', 'Sex'])['Survived'].apply(lambda x: (x== 0).mean()).sort_values()\n",
    "sex_pClassData"
   ]
  },
  {
   "cell_type": "code",
   "execution_count": 211,
   "metadata": {},
   "outputs": [
    {
     "data": {
      "image/png": "[encoded data removed]",
      "text/plain": [
       "<Figure size 1080x504 with 1 Axes>"
      ]
     },
     "metadata": {},
     "output_type": "display_data"
    }
   ],
   "source": [
    "sex_pClassData = data.groupby(['Pclass', 'Sex'])['Survived'].apply(lambda x: (x== 1).mean()).sort_values()\n",
    "plt.xlabel('Survival Rate')\n",
    "plt.ylabel('Pclass by Sex')\n",
    "sex_pClassData.plot.barh(figsize =(15,7), color = \"orange\").set_title('Percentage of Passangers Alive by Pclass and Sex', loc='left')\n",
    "\n",
    "plt.show()\n",
    "\n",
    "\n",
    "\n"
   ]
  },
  {
   "cell_type": "code",
   "execution_count": null,
   "metadata": {},
   "outputs": [],
   "source": []
  },
  {
   "cell_type": "code",
   "execution_count": 212,
   "metadata": {},
   "outputs": [
    {
     "name": "stdout",
     "output_type": "stream",
     "text": [
      "If [Sex=female] then 1. Coverage:261, accuracy: 0.7547892720306514\n",
      "If [Pclass=3] then 0. Coverage:253, accuracy: 0.849802371541502\n",
      "If [Pclass=2] then 0. Coverage:99, accuracy: 0.8484848484848485\n"
     ]
    }
   ],
   "source": [
    "# We can set different accuracy thresholds\n",
    "# Here we can reorder class labels - to first learn the rules with class label \"survived\".\n",
    "rules = learn_rules(column_list, data, [1,0], 30, 0.7)\n",
    "for rule in rules[:10]:\n",
    "    print(rule)"
   ]
  },
  {
   "cell_type": "markdown",
   "metadata": {},
   "source": [
    "## 3. Coronavirus: symptoms and outcome"
   ]
  },
  {
   "cell_type": "code",
   "execution_count": 213,
   "metadata": {},
   "outputs": [],
   "source": [
    "data_file = \"../data_sets/covid_categorical_good.csv\"\n",
    "data = pd.read_csv(data_file)\n",
    "data = data.dropna(how=\"any\")\n",
    "column_list = data.columns"
   ]
  },
  {
   "cell_type": "markdown",
   "metadata": {},
   "source": [
    "Most accurate rules will have class label \"alive\". There could be too many rules, and we might never get to the class label \"dead\" if we rank them by accuracy. \n",
    "\n",
    "If we want to see which combination of attributes leads to \"dead\", we might want to run the algorithm with only this class label and set the lower accuracy threshold.\n",
    "\n",
    "Remove the _age_ attribute and run your algorithm with parameters shown below."
   ]
  },
  {
   "cell_type": "code",
   "execution_count": 214,
   "metadata": {},
   "outputs": [
    {
     "data": {
      "text/html": [
       "<div>\n",
       "<style scoped>\n",
       "    .dataframe tbody tr th:only-of-type {\n",
       "        vertical-align: middle;\n",
       "    }\n",
       "\n",
       "    .dataframe tbody tr th {\n",
       "        vertical-align: top;\n",
       "    }\n",
       "\n",
       "    .dataframe thead th {\n",
       "        text-align: right;\n",
       "    }\n",
       "</style>\n",
       "<table border=\"1\" class=\"dataframe\">\n",
       "  <thead>\n",
       "    <tr style=\"text-align: right;\">\n",
       "      <th></th>\n",
       "      <th>sex</th>\n",
       "      <th>age</th>\n",
       "      <th>diabetes</th>\n",
       "      <th>copd</th>\n",
       "      <th>asthma</th>\n",
       "      <th>imm_supr</th>\n",
       "      <th>hypertension</th>\n",
       "      <th>cardiovascular</th>\n",
       "      <th>obesity</th>\n",
       "      <th>renal_chronic</th>\n",
       "      <th>tobacco</th>\n",
       "      <th>outcome</th>\n",
       "    </tr>\n",
       "  </thead>\n",
       "  <tbody>\n",
       "    <tr>\n",
       "      <th>0</th>\n",
       "      <td>male</td>\n",
       "      <td>27</td>\n",
       "      <td>no</td>\n",
       "      <td>no</td>\n",
       "      <td>no</td>\n",
       "      <td>no</td>\n",
       "      <td>no</td>\n",
       "      <td>no</td>\n",
       "      <td>no</td>\n",
       "      <td>no</td>\n",
       "      <td>no</td>\n",
       "      <td>alive</td>\n",
       "    </tr>\n",
       "    <tr>\n",
       "      <th>1</th>\n",
       "      <td>male</td>\n",
       "      <td>24</td>\n",
       "      <td>no</td>\n",
       "      <td>no</td>\n",
       "      <td>no</td>\n",
       "      <td>no</td>\n",
       "      <td>no</td>\n",
       "      <td>no</td>\n",
       "      <td>no</td>\n",
       "      <td>no</td>\n",
       "      <td>no</td>\n",
       "      <td>alive</td>\n",
       "    </tr>\n",
       "    <tr>\n",
       "      <th>2</th>\n",
       "      <td>female</td>\n",
       "      <td>54</td>\n",
       "      <td>no</td>\n",
       "      <td>no</td>\n",
       "      <td>no</td>\n",
       "      <td>no</td>\n",
       "      <td>no</td>\n",
       "      <td>no</td>\n",
       "      <td>yes</td>\n",
       "      <td>no</td>\n",
       "      <td>no</td>\n",
       "      <td>alive</td>\n",
       "    </tr>\n",
       "    <tr>\n",
       "      <th>3</th>\n",
       "      <td>male</td>\n",
       "      <td>30</td>\n",
       "      <td>no</td>\n",
       "      <td>no</td>\n",
       "      <td>no</td>\n",
       "      <td>no</td>\n",
       "      <td>no</td>\n",
       "      <td>no</td>\n",
       "      <td>no</td>\n",
       "      <td>no</td>\n",
       "      <td>no</td>\n",
       "      <td>alive</td>\n",
       "    </tr>\n",
       "    <tr>\n",
       "      <th>4</th>\n",
       "      <td>female</td>\n",
       "      <td>60</td>\n",
       "      <td>yes</td>\n",
       "      <td>no</td>\n",
       "      <td>no</td>\n",
       "      <td>no</td>\n",
       "      <td>yes</td>\n",
       "      <td>yes</td>\n",
       "      <td>no</td>\n",
       "      <td>no</td>\n",
       "      <td>no</td>\n",
       "      <td>dead</td>\n",
       "    </tr>\n",
       "  </tbody>\n",
       "</table>\n",
       "</div>"
      ],
      "text/plain": [
       "      sex  age diabetes copd asthma imm_supr hypertension cardiovascular  \\\n",
       "0    male   27       no   no     no       no           no             no   \n",
       "1    male   24       no   no     no       no           no             no   \n",
       "2  female   54       no   no     no       no           no             no   \n",
       "3    male   30       no   no     no       no           no             no   \n",
       "4  female   60      yes   no     no       no          yes            yes   \n",
       "\n",
       "  obesity renal_chronic tobacco outcome  \n",
       "0      no            no      no   alive  \n",
       "1      no            no      no   alive  \n",
       "2     yes            no      no   alive  \n",
       "3      no            no      no   alive  \n",
       "4      no            no      no    dead  "
      ]
     },
     "execution_count": 214,
     "metadata": {},
     "output_type": "execute_result"
    }
   ],
   "source": [
    "data.head()"
   ]
  },
  {
   "cell_type": "code",
   "execution_count": 215,
   "metadata": {},
   "outputs": [
    {
     "data": {
      "text/plain": [
       "alive    192419\n",
       "dead      26760\n",
       "Name: outcome, dtype: int64"
      ]
     },
     "execution_count": 215,
     "metadata": {},
     "output_type": "execute_result"
    }
   ],
   "source": [
    "data['outcome'].value_counts()"
   ]
  },
  {
   "cell_type": "code",
   "execution_count": 216,
   "metadata": {},
   "outputs": [
    {
     "data": {
      "text/plain": [
       "age\n",
       "120    0.000000\n",
       "106    0.000000\n",
       "114    0.000000\n",
       "102    0.000000\n",
       "6      0.000000\n",
       "         ...   \n",
       "83     0.464041\n",
       "88     0.471545\n",
       "93     0.480519\n",
       "86     0.488064\n",
       "100    0.500000\n",
       "Name: outcome, Length: 109, dtype: float64"
      ]
     },
     "execution_count": 216,
     "metadata": {},
     "output_type": "execute_result"
    }
   ],
   "source": [
    "data.groupby('age')['outcome'].apply(lambda x: (x== 'dead').mean()).sort_values()"
   ]
  },
  {
   "cell_type": "code",
   "execution_count": 217,
   "metadata": {},
   "outputs": [
    {
     "data": {
      "text/plain": [
       "age\n",
       "100    0.500000\n",
       "86     0.511936\n",
       "93     0.519481\n",
       "88     0.528455\n",
       "83     0.535959\n",
       "         ...   \n",
       "106    1.000000\n",
       "114    1.000000\n",
       "116    1.000000\n",
       "6      1.000000\n",
       "120    1.000000\n",
       "Name: outcome, Length: 109, dtype: float64"
      ]
     },
     "execution_count": 217,
     "metadata": {},
     "output_type": "execute_result"
    }
   ],
   "source": [
    "data.groupby('age')['outcome'].apply(lambda x: (x== 'alive').mean()).sort_values()"
   ]
  },
  {
   "cell_type": "code",
   "execution_count": 228,
   "metadata": {},
   "outputs": [],
   "source": [
    "aliveData = data.groupby(['sex', 'age','diabetes','copd','asthma','imm_supr','hypertension','cardiovascular','obesity','renal_chronic','tobacco'])['outcome'].apply(lambda x: (x== \"alive\").mean()).sort_values()\n",
    "deadData = data.groupby(['sex', 'age','diabetes','copd','asthma','imm_supr','hypertension','cardiovascular','obesity','renal_chronic','tobacco'])['outcome'].apply(lambda x: (x== \"dead\").mean()).sort_values()"
   ]
  },
  {
   "cell_type": "code",
   "execution_count": 241,
   "metadata": {},
   "outputs": [
    {
     "name": "stdout",
     "output_type": "stream",
     "text": [
      "sex     age  diabetes  copd  asthma  imm_supr  hypertension  cardiovascular  obesity  renal_chronic  tobacco\n",
      "female  52   yes       no    yes     no        yes           yes             no       yes            no         0.0\n",
      "male    63   yes       no    no      no        no            no              yes      no             yes        0.0\n",
      "female  87   yes       no    no      no        no            no              no       yes            no         0.0\n",
      "male    63   yes       no    no      no        yes           no              no       yes            yes        0.0\n",
      "                                                             yes             no       yes            yes        0.0\n",
      "                                                                                                               ... \n",
      "female  71   no        no    yes     no        yes           no              no       no             yes        1.0\n",
      "                       yes   no      no        no            no              no       no             yes        1.0\n",
      "male    50   no        no    no      no        no            no              yes      yes            no         1.0\n",
      "female  70   no        yes   no      no        yes           yes             no       no             yes        1.0\n",
      "male    120  no        no    no      no        no            no              yes      no             no         1.0\n",
      "Name: outcome, Length: 9295, dtype: float64 \n",
      "\n",
      " ******************************************************************************************************************* \n",
      " sex     age  diabetes  copd  asthma  imm_supr  hypertension  cardiovascular  obesity  renal_chronic  tobacco\n",
      "male    120  no        no    no      no        no            no              yes      no             no         0.0\n",
      "        48   no        no    no      no        yes           yes             yes      yes            yes        0.0\n",
      "                                     yes       no            no              no       no             yes        0.0\n",
      "                                                                                      yes            no         0.0\n",
      "                                                                             yes      no             no         0.0\n",
      "                                                                                                               ... \n",
      "        73   no        no    yes     no        yes           no              yes      no             no         1.0\n",
      "                                                                             no       no             no         1.0\n",
      "female  47   yes       yes   no      no        no            no              yes      yes            no         1.0\n",
      "male    73   no        yes   no      no        yes           yes             no       yes            no         1.0\n",
      "        61   yes       yes   no      no        yes           no              no       no             yes        1.0\n",
      "Name: outcome, Length: 9295, dtype: float64\n"
     ]
    }
   ],
   "source": [
    "print(aliveData,\"\\n\\n\", \"*\"*115,\"\\n\", deadData)"
   ]
  },
  {
   "cell_type": "code",
   "execution_count": 219,
   "metadata": {},
   "outputs": [],
   "source": [
    "# We really want to learn first what makes covid deadly\n",
    "class_labels = [\"dead\"]\n",
    "rules = learn_rules(column_list, data, class_labels, 30, 0.9) \n",
    "for rule in rules[:20]:\n",
    "    print(rule)"
   ]
  },
  {
   "cell_type": "code",
   "execution_count": 220,
   "metadata": {},
   "outputs": [
    {
     "name": "stdout",
     "output_type": "stream",
     "text": [
      "If [age=86] then dead. Coverage:377, accuracy: 0.4880636604774536\n",
      "If [age=93] then dead. Coverage:77, accuracy: 0.4805194805194805\n",
      "If [age=88] then dead. Coverage:246, accuracy: 0.4715447154471545\n",
      "If [age=83] then dead. Coverage:584, accuracy: 0.464041095890411\n",
      "If [age=87] then dead. Coverage:345, accuracy: 0.4579710144927536\n",
      "If [age=80] then dead. Coverage:820, accuracy: 0.4573170731707317\n",
      "If [age=82] then dead. Coverage:656, accuracy: 0.4573170731707317\n",
      "If [age=81] then dead. Coverage:693, accuracy: 0.45454545454545453\n",
      "If [age=84] then dead. Coverage:547, accuracy: 0.4369287020109689\n",
      "If [age=78] then dead. Coverage:1034, accuracy: 0.43133462282398455\n",
      "If [age=91] then dead. Coverage:117, accuracy: 0.42735042735042733\n",
      "If [age=79] then dead. Coverage:851, accuracy: 0.418331374853114\n",
      "If [age=76] then dead. Coverage:1118, accuracy: 0.41323792486583183\n",
      "If [age=74] then dead. Coverage:1281, accuracy: 0.4129586260733802\n",
      "If [age=92] then dead. Coverage:109, accuracy: 0.41284403669724773\n",
      "If [age=77] then dead. Coverage:1058, accuracy: 0.4111531190926276\n",
      "If [age=90] then dead. Coverage:223, accuracy: 0.4080717488789238\n",
      "If [age=89, sex=male] then dead. Coverage:124, accuracy: 0.4596774193548387\n",
      "If [age=71, renal_chronic=yes] then dead. Coverage:82, accuracy: 0.5121951219512195\n",
      "If [age=97, obesity=no] then dead. Coverage:31, accuracy: 0.41935483870967744\n"
     ]
    }
   ],
   "source": [
    "# I had to lower the accuracy and coverage in order to see more rules that would include the dead.\n",
    "class_labels = [\"dead\"]\n",
    "rules = learn_rules(column_list, data, class_labels, 22, 0.4) \n",
    "for rule in rules[:20]:\n",
    "    print(rule)"
   ]
  },
  {
   "cell_type": "markdown",
   "metadata": {},
   "source": [
    "Now try on both classes and for the entire dataset including _age_. Collect top 20 most accurate rules."
   ]
  },
  {
   "cell_type": "code",
   "execution_count": 221,
   "metadata": {},
   "outputs": [
    {
     "name": "stdout",
     "output_type": "stream",
     "text": [
      "If [age=6] then alive. Coverage:198, accuracy: 1.0\n",
      "If [age=14] then alive. Coverage:360, accuracy: 0.9972222222222222\n",
      "If [age=16] then alive. Coverage:492, accuracy: 0.9959349593495935\n",
      "If [age=18] then alive. Coverage:611, accuracy: 0.9950900163666121\n",
      "If [age=7] then alive. Coverage:182, accuracy: 0.9945054945054945\n",
      "If [age=24] then alive. Coverage:2746, accuracy: 0.9941733430444283\n",
      "If [age=19] then alive. Coverage:974, accuracy: 0.9928131416837782\n",
      "If [age=12] then alive. Coverage:270, accuracy: 0.9925925925925926\n",
      "If [age=20] then alive. Coverage:1191, accuracy: 0.9916036943744753\n",
      "If [age=8] then alive. Coverage:215, accuracy: 0.9906976744186047\n",
      "If [age=25] then alive. Coverage:3235, accuracy: 0.9901081916537867\n",
      "If [age=27] then alive. Coverage:4053, accuracy: 0.9898840365161609\n",
      "If [age=28] then alive. Coverage:4298, accuracy: 0.9895300139599814\n",
      "If [age=23] then alive. Coverage:2129, accuracy: 0.9891968060122123\n",
      "If [age=11] then alive. Coverage:272, accuracy: 0.9889705882352942\n",
      "If [age=22] then alive. Coverage:1676, accuracy: 0.9886634844868735\n",
      "If [age=3] then alive. Coverage:172, accuracy: 0.9883720930232558\n",
      "If [age=13] then alive. Coverage:342, accuracy: 0.9883040935672515\n",
      "If [age=10] then alive. Coverage:250, accuracy: 0.988\n",
      "If [age=29] then alive. Coverage:4482, accuracy: 0.9875055778670236\n"
     ]
    }
   ],
   "source": [
    "# This may take some time to run (took 12 min on my computer - what about your implementation?)\n",
    "rules = learn_rules (column_list, data, None, 30, 0.9)\n",
    "for rule in rules[:20]:\n",
    "    print(rule)"
   ]
  },
  {
   "cell_type": "markdown",
   "metadata": {},
   "source": [
    "## 4. Discussion\n",
    "\n",
    "Write here a discussion about the rules that you have learned from both datasets. \n",
    "\n",
    "Did any of these rules surprise you?\n",
    "\n",
    "Do you have a meaningful logical explanation for these rules?\n",
    "\n",
    "What additional research is needed to understand the meaning of your findings?"
   ]
  },
  {
   "cell_type": "markdown",
   "metadata": {},
   "source": [
    "## Answer:\n",
    "\n",
    "\n",
    "I was not surprised by rules generated from the titanic dataset. \n",
    "\n",
    "\n",
    ". This is because, due to the historical context of when the event occurred, it is possible to link the survival rate to the inequality of services between social classes. For the titanic dataset, we had the following rules.\n",
    "\n",
    "    If [Sex=female] then 1. Coverage:261, accuracy: 0.7547892720306514\n",
    "    If [Pclass=3] then 0. Coverage:253, accuracy: 0.849802371541502\n",
    "    If [Pclass=2] then 0. Coverage:99, accuracy: 0.8484848484848485\n",
    "\n",
    "It makes sense that, among other groups, females have a better chance of survival. We can also note that the rules show that higher \"Pclass\" leads to a higher chance of death. Which means that the higher the acquisition power, the greater the chance of survival. \n",
    "\n",
    "As for the covid_categorical_good dataset, I first noticed that there were a smaller number of \"dead\" cases (26760) from a total of (192419) \"alive\" cases. Additionally, we do not see any of the rules with \"dead\" class_label being show up in top 20 rules. While testing the rules with lower accuracy and coverage, we can see  that most of the accuracy of the \"dead\" are really low. Thus, it seems that we can not find any rule that will be always \"dead\". For example, if we were to consider only patients at age 79, the chances of all of these patients to die is very low. For that reason, we can not get 100% accuracy. All the top 20 rules with the \"alive\" class has its majority with higher accuracy. Finally, it seems that \"age\" is the dataset feature with the most important factor to determine the survival chance of someone with covid-19. \n"
   ]
  },
  {
   "cell_type": "markdown",
   "metadata": {},
   "source": [
    "Copyright &copy; 2022 Marina Barsky. All rights reserved."
   ]
  }
 ],
 "metadata": {
  "kernelspec": {
   "display_name": "Python 3 (ipykernel)",
   "language": "python",
   "name": "python3"
  },
  "language_info": {
   "codemirror_mode": {
    "name": "ipython",
    "version": 3
   },
   "file_extension": ".py",
   "mimetype": "text/x-python",
   "name": "python",
   "nbconvert_exporter": "python",
   "pygments_lexer": "ipython3",
   "version": "3.9.7"
  }
 },
 "nbformat": 4,
 "nbformat_minor": 4
}
